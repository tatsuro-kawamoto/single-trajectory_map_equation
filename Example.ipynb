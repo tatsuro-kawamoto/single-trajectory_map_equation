{
 "cells": [
  {
   "cell_type": "markdown",
   "id": "electronic-failing",
   "metadata": {},
   "source": [
    "# Example of the single-trajectory map equation\n",
    "\n",
    "Community detection of the karate club network"
   ]
  },
  {
   "cell_type": "code",
   "execution_count": 1,
   "id": "fiscal-cedar",
   "metadata": {},
   "outputs": [],
   "source": [
    "# Karate club network dataset (https://en.wikipedia.org/wiki/Zachary%27s_karate_club)\n",
    "edges = [\n",
    "[2,1],[3,1],[3,2],[4,1],[4,2],[4,3],[5,1],[6,1],[7,1],[7,5],\n",
    "[7,6],[8,1],[8,2],[8,3],[8,4],[9,1],[9,3],[10,3],[11,1],[11,5],\n",
    "[11,6],[12,1],[13,1],[13,4],[14,1],[14,2],[14,3],[14,4],[17,6],\n",
    "[17,7],[18,1],[18,2],[20,1],[20,2],[22,1],[22,2],[26,24],[26,25],\n",
    "[28,3],[28,24],[28,25],[29,3],[30,24],[30,27],[31,2],[31,9],[32,1],\n",
    "[32,25],[32,26],[32,29],[33,3],[33,9],[33,15],[33,16],[33,19],[33,21],\n",
    "[33,23],[33,24],[33,30],[33,31],[33,32],[34,9],[34,10],[34,14],[34,15],\n",
    "[34,16],[34,19],[34,20],[34,21],[34,23],[34,24],[34,27],[34,28],[34,29],\n",
    "[34,30],[34,31],[34,32],[34,33]\n",
    "]\n",
    "\n",
    "# We treat bidirectional edges as the trajectories\n",
    "trajectories = []\n",
    "for edge in edges:\n",
    "    trajectories.append([edge[0]-1,edge[1]-1])\n",
    "    trajectories.append([edge[1]-1,edge[0]-1])"
   ]
  },
  {
   "cell_type": "markdown",
   "id": "caroline-lease",
   "metadata": {},
   "source": [
    "## Single-trajectory map equation\n",
    "\n",
    "- `Infomap_st` uses Infomap as the initial partition"
   ]
  },
  {
   "cell_type": "code",
   "execution_count": 2,
   "id": "structural-examination",
   "metadata": {},
   "outputs": [],
   "source": [
    "from src.stMapEqn_Infomap import Infomap_st\n",
    "\n",
    "code_length, module_assignments = Infomap_st(trajectories, scheme='Huffman')"
   ]
  },
  {
   "cell_type": "code",
   "execution_count": 3,
   "id": "dying-european",
   "metadata": {},
   "outputs": [
    {
     "name": "stdout",
     "output_type": "stream",
     "text": [
      "4.660256410256411\n",
      "[1, 1, 1, 1, 1, 1, 1, 1, 0, 1, 1, 1, 1, 1, 0, 0, 1, 1, 0, 1, 0, 1, 0, 0, 0, 0, 0, 0, 0, 0, 0, 0, 0, 0]\n"
     ]
    }
   ],
   "source": [
    "print(code_length)\n",
    "print(module_assignments)"
   ]
  },
  {
   "cell_type": "code",
   "execution_count": null,
   "id": "logical-algorithm",
   "metadata": {},
   "outputs": [],
   "source": []
  }
 ],
 "metadata": {
  "kernelspec": {
   "display_name": "python3.9",
   "language": "python",
   "name": "python3"
  },
  "language_info": {
   "codemirror_mode": {
    "name": "ipython",
    "version": 3
   },
   "file_extension": ".py",
   "mimetype": "text/x-python",
   "name": "python",
   "nbconvert_exporter": "python",
   "pygments_lexer": "ipython3",
   "version": "3.9.1"
  },
  "toc": {
   "base_numbering": 1,
   "nav_menu": {},
   "number_sections": true,
   "sideBar": true,
   "skip_h1_title": false,
   "title_cell": "Table of Contents",
   "title_sidebar": "Contents",
   "toc_cell": false,
   "toc_position": {},
   "toc_section_display": true,
   "toc_window_display": false
  }
 },
 "nbformat": 4,
 "nbformat_minor": 5
}
