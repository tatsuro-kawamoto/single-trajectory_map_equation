{
 "cells": [
  {
   "cell_type": "markdown",
   "id": "automatic-genealogy",
   "metadata": {},
   "source": [
    "# Single-trajectory map equation (Infomap+)\n",
    "\n",
    "Herein, we use the karate club network as an example.\n",
    "Each undirected edge is treated as a pair of directed edges in both directions."
   ]
  },
  {
   "cell_type": "code",
   "execution_count": 1,
   "id": "removable-economics",
   "metadata": {},
   "outputs": [],
   "source": [
    "from src.infomap_st import Infomap_st\n",
    "\n",
    "# karate club\n",
    "bidirected_edges = [(1, 0), (2, 0), (3, 0), (4, 0), (5, 0), (6, 0), (7, 0), (8, 0), (10, 0), (11, 0), (12, 0), (13, 0), (17, 0), (19, 0), (21, 0), (31, 0), (2, 1), (3, 1), (7, 1), (13, 1), (17, 1), (19, 1), (21, 1), (30, 1), (3, 2), (7, 2), (8, 2), (9, 2), (13, 2), (27, 2), (28, 2), (32, 2), (7, 3), (12, 3), (13, 3), (6, 4), (10, 4), (6, 5), (10, 5), (16, 5), (16, 6), (30, 8), (32, 8), (33, 8), (33, 9), (33, 13), (32, 14), (33, 14), (32, 15), (33, 15), (32, 18), (33, 18), (33, 19), (32, 20), (33, 20), (32, 22), (33, 22), (25, 23), (27, 23), (29, 23), (32, 23), (33, 23), (25, 24), (27, 24), (31, 24), (31, 25), (29, 26), (33, 26), (33, 27), (31, 28), (33, 28), (32, 29), (33, 29), (32, 30), (33, 30), (32, 31), (33, 31), (33, 32), (0, 1), (0, 2), (0, 3), (0, 4), (0, 5), (0, 6), (0, 7), (0, 8), (0, 10), (0, 11), (0, 12), (0, 13), (0, 17), (0, 19), (0, 21), (0, 31), (1, 2), (1, 3), (1, 7), (1, 13), (1, 17), (1, 19), (1, 21), (1, 30), (2, 3), (2, 7), (2, 8), (2, 9), (2, 13), (2, 27), (2, 28), (2, 32), (3, 7), (3, 12), (3, 13), (4, 6), (4, 10), (5, 6), (5, 10), (5, 16), (6, 16), (8, 30), (8, 32), (8, 33), (9, 33), (13, 33), (14, 32), (14, 33), (15, 32), (15, 33), (18, 32), (18, 33), (19, 33), (20, 32), (20, 33), (22, 32), (22, 33), (23, 25), (23, 27), (23, 29), (23, 32), (23, 33), (24, 25), (24, 27), (24, 31), (25, 31), (26, 29), (26, 33), (27, 33), (28, 31), (28, 33), (29, 32), (29, 33), (30, 32), (30, 33), (31, 32), (31, 33), (32, 33)]"
   ]
  },
  {
   "cell_type": "markdown",
   "id": "round-auditor",
   "metadata": {},
   "source": [
    "## Infomap+ with the Huffman coding"
   ]
  },
  {
   "cell_type": "code",
   "execution_count": 2,
   "id": "academic-rwanda",
   "metadata": {},
   "outputs": [
    {
     "name": "stdout",
     "output_type": "stream",
     "text": [
      "membership = [1, 1, 1, 1, 1, 1, 1, 1, 0, 1, 1, 1, 1, 1, 0, 0, 1, 1, 0, 1, 0, 1, 0, 0, 0, 0, 0, 0, 0, 0, 0, 0, 0, 0]\n",
      "codelength = 4.660256410256411\n"
     ]
    }
   ],
   "source": [
    "# Single-trajectory map equation (Infomap+)\n",
    "coding = 'Huffman' # Options are 'lower_bound' (default), 'Huffman', 'Shannon-Fano'\n",
    "im = Infomap_st(trajectories=bidirected_edges, coding=coding)\n",
    "membership = im.optimize()\n",
    "\n",
    "print(\"membership = \"+str(membership))\n",
    "print(\"codelength = \"+str(im.codelength))"
   ]
  },
  {
   "cell_type": "markdown",
   "id": "expected-glory",
   "metadata": {},
   "source": [
    "## Code length in the single-trajectory map equation of a partition (membership)"
   ]
  },
  {
   "cell_type": "code",
   "execution_count": 3,
   "id": "impossible-equity",
   "metadata": {},
   "outputs": [
    {
     "name": "stdout",
     "output_type": "stream",
     "text": [
      "codelength = 4.704422598883342\n"
     ]
    }
   ],
   "source": [
    "im_membership = Infomap_st(trajectories=bidirected_edges, membership=[0 for i in range(34)])\n",
    "print(\"codelength = \"+str(im_membership.codelength))"
   ]
  },
  {
   "cell_type": "markdown",
   "id": "interested-cuisine",
   "metadata": {},
   "source": [
    "## Heterogeneous coding (Tuning the hyperparameter $\\lambda$)"
   ]
  },
  {
   "cell_type": "code",
   "execution_count": 4,
   "id": "fallen-township",
   "metadata": {},
   "outputs": [
    {
     "name": "stdout",
     "output_type": "stream",
     "text": [
      "membership = [1, 1, 1, 1, 1, 1, 1, 1, 0, 1, 1, 1, 1, 1, 0, 0, 1, 1, 0, 1, 0, 1, 0, 0, 0, 0, 0, 0, 0, 0, 0, 0, 0, 0]\n"
     ]
    }
   ],
   "source": [
    "im_lmbda = Infomap_st(trajectories=bidirected_edges, lmbda=1.1)\n",
    "membership = im_lmbda.optimize()\n",
    "print(\"membership = \"+str(membership))"
   ]
  },
  {
   "cell_type": "code",
   "execution_count": null,
   "id": "eligible-marks",
   "metadata": {},
   "outputs": [],
   "source": []
  }
 ],
 "metadata": {
  "kernelspec": {
   "display_name": "python3.9",
   "language": "python",
   "name": "python3"
  },
  "language_info": {
   "codemirror_mode": {
    "name": "ipython",
    "version": 3
   },
   "file_extension": ".py",
   "mimetype": "text/x-python",
   "name": "python",
   "nbconvert_exporter": "python",
   "pygments_lexer": "ipython3",
   "version": "3.9.1"
  },
  "toc": {
   "base_numbering": 1,
   "nav_menu": {},
   "number_sections": true,
   "sideBar": true,
   "skip_h1_title": false,
   "title_cell": "Table of Contents",
   "title_sidebar": "Contents",
   "toc_cell": false,
   "toc_position": {},
   "toc_section_display": true,
   "toc_window_display": false
  }
 },
 "nbformat": 4,
 "nbformat_minor": 5
}
